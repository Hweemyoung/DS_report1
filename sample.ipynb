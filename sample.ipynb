{
  "nbformat": 4,
  "nbformat_minor": 0,
  "metadata": {
    "kernelspec": {
      "display_name": "Python 3",
      "language": "python",
      "name": "python3"
    },
    "language_info": {
      "codemirror_mode": {
        "name": "ipython",
        "version": 3
      },
      "file_extension": ".py",
      "mimetype": "text/x-python",
      "name": "python",
      "nbconvert_exporter": "python",
      "pygments_lexer": "ipython3",
      "version": "3.6.2"
    },
    "colab": {
      "name": "sample.ipynb",
      "provenance": [],
      "collapsed_sections": []
    }
  },
  "cells": [
    {
      "cell_type": "code",
      "metadata": {
        "id": "RRTRSiPb467j",
        "colab_type": "code",
        "colab": {}
      },
      "source": [
        "import numpy as np\n",
        "import pandas as pd"
      ],
      "execution_count": 0,
      "outputs": []
    },
    {
      "cell_type": "markdown",
      "metadata": {
        "id": "RSkUG2CA5IrL",
        "colab_type": "text"
      },
      "source": [
        "Mount your Google Drive. In this notebook, we assume that 'report1' folder is placed directly under 'My Drive'."
      ]
    },
    {
      "cell_type": "code",
      "metadata": {
        "id": "56CkXhQu5Pe4",
        "colab_type": "code",
        "colab": {}
      },
      "source": [
        "from google.colab import drive\n",
        "drive.mount('/content/drive')"
      ],
      "execution_count": 0,
      "outputs": []
    },
    {
      "cell_type": "code",
      "metadata": {
        "id": "BD2mdnv55iw4",
        "colab_type": "code",
        "colab": {}
      },
      "source": [
        "!ls /content/drive/My\\ Drive  #You should be able to see 'report1' folder by running this."
      ],
      "execution_count": 0,
      "outputs": []
    },
    {
      "cell_type": "markdown",
      "metadata": {
        "id": "rtU_Jfu15V7i",
        "colab_type": "text"
      },
      "source": [
        "Sample code (Ridge regression) for the assignment."
      ]
    },
    {
      "cell_type": "code",
      "metadata": {
        "id": "_J9v1rzg467n",
        "colab_type": "code",
        "colab": {}
      },
      "source": [
        "def ridgeRegres(xArr,yArr, gamma):\n",
        "    xMat = np.mat(xArr)\n",
        "    yMat = np.mat(yArr)\n",
        "    \n",
        "    xTx = xMat*xMat.T + gamma*np.eye(xMat.shape[0])\n",
        "    if np.linalg.det(xTx) == 0.0:\n",
        "        print(\"This matrix is singular, cannot do inverse\")\n",
        "        return\n",
        "    ws = np.linalg.solve(xTx, xMat*yMat)\n",
        "    return ws\n",
        "\n",
        "def RMSE(vec1, vec2):\n",
        "    return np.sqrt(np.mean(np.power(vec1-vec2,2)))"
      ],
      "execution_count": 0,
      "outputs": []
    },
    {
      "cell_type": "code",
      "metadata": {
        "id": "sSZdc1Aj467p",
        "colab_type": "code",
        "colab": {}
      },
      "source": [
        "root_dir=\"/content/drive/My Drive/report1/\"\n",
        "N = 20000\n",
        "nfeat = 8\n",
        "\n",
        "train_data = pd.read_csv(root_dir+\"train.csv\")\n",
        "test_data = pd.read_csv(root_dir+\"test.csv\")\n",
        "Xmat = np.matrix(train_data)[:,:nfeat]\n",
        "ymat = np.matrix(train_data)[:,nfeat]   #This is the target"
      ],
      "execution_count": 0,
      "outputs": []
    },
    {
      "cell_type": "markdown",
      "metadata": {
        "id": "ONxuyXSY501G",
        "colab_type": "text"
      },
      "source": [
        "Prepare the features."
      ]
    },
    {
      "cell_type": "code",
      "metadata": {
        "id": "lrCPp5Xw467t",
        "colab_type": "code",
        "colab": {}
      },
      "source": [
        "#make dummy variables for the 'weather' categories\n",
        "#note that we have to create dummies throughout training and testing data to align them\n",
        "#(another idea is to use OneHotEncoder in scikit-learn)\n",
        "all_data = pd.concat([train_data,test_data])\n",
        "meta = pd.get_dummies(all_data['weather']) \n",
        "\n",
        "X = np.float64(np.hstack([Xmat[:,1:5],meta.iloc[:len(train_data),:]])) #use four real-valued features and the dummy, and cast to float64 data type \n",
        "y = np.float64(ymat)\n",
        "\n",
        "XTrain = X[:N,:].T #use the first N samples for training (column-wise)\n",
        "yTrain = y[:N,:]\n",
        "XVal = X[N:,:].T #use the rests for validation\n",
        "yVal = y[N:,:]"
      ],
      "execution_count": 0,
      "outputs": []
    },
    {
      "cell_type": "markdown",
      "metadata": {
        "id": "4m7dAWcr54aO",
        "colab_type": "text"
      },
      "source": [
        "Run Ridge regression."
      ]
    },
    {
      "cell_type": "code",
      "metadata": {
        "id": "NMNkYM1p467v",
        "colab_type": "code",
        "colab": {}
      },
      "source": [
        "w = ridgeRegres(XTrain,yTrain,gamma=10000) #linear regression"
      ],
      "execution_count": 0,
      "outputs": []
    },
    {
      "cell_type": "markdown",
      "metadata": {
        "id": "tJYNZ-u7595p",
        "colab_type": "text"
      },
      "source": [
        "Evaluate training and validation errors."
      ]
    },
    {
      "cell_type": "code",
      "metadata": {
        "id": "Xum8f8Nu467y",
        "colab_type": "code",
        "colab": {}
      },
      "source": [
        "yHatTrain = np.dot(w.T, XTrain)\n",
        "yHatVal = np.dot(w.T, XVal)\n",
        "\n",
        "print(\"Training error \", RMSE(yTrain, yHatTrain.T))\n",
        "print(\"Validation error \", RMSE(yVal, yHatVal.T))"
      ],
      "execution_count": 0,
      "outputs": []
    },
    {
      "cell_type": "markdown",
      "metadata": {
        "id": "4eJ2XsU56CwN",
        "colab_type": "text"
      },
      "source": [
        "Now, project the testing data. You can upload 'result.txt' to the evaluation server."
      ]
    },
    {
      "cell_type": "code",
      "metadata": {
        "id": "yOcWlWAn4672",
        "colab_type": "code",
        "colab": {}
      },
      "source": [
        "Xtest = np.float64(np.hstack([test_data.iloc[:,1:5],meta.iloc[len(train_data):,:]]))\n",
        "yHatTest = np.dot(w.T, Xtest.T)\n",
        "np.savetxt(root_dir+'result.txt', yHatTest.T) #save predictions in rows"
      ],
      "execution_count": 0,
      "outputs": []
    },
    {
      "cell_type": "code",
      "metadata": {
        "id": "jetzXfa64674",
        "colab_type": "code",
        "colab": {}
      },
      "source": [
        ""
      ],
      "execution_count": 0,
      "outputs": []
    }
  ]
}